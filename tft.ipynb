{
 "cells": [
  {
   "cell_type": "code",
   "execution_count": 3,
   "metadata": {},
   "outputs": [
    {
     "name": "stdout",
     "output_type": "stream",
     "text": [
      "Completed formatting, saving to formatted_ohlc.csv\n",
      "Done.\n"
     ]
    }
   ],
   "source": [
    "import numpy as np\n",
    "import pandas as pd\n",
    "\n",
    "# Dataset specific download routines.\n",
    "def download_volatility():\n",
    "    \"\"\"Downloads volatility data from OMI website.\"\"\"\n",
    "\n",
    "    csv_path = 'ohlc2.csv'\n",
    "    df = pd.read_csv(csv_path, index_col=0, delimiter=';')  # no explicit index\n",
    "\n",
    "   \n",
    "    df['categorical_id'] = df['Symbol'].copy()\n",
    "\n",
    "    # Processes log volatility\n",
    "    vol = df['volume'].copy()\n",
    "    vol.loc[vol == 0.] = np.nan\n",
    "    df['log_vol'] = np.log(vol)\n",
    "\n",
    "\n",
    "    df['Region'] = \"GER\"\n",
    "\n",
    "    # Performs final processing\n",
    "    output_df_list = []\n",
    "    for grp in df.groupby('Symbol'):\n",
    "        sliced = grp[1].copy()\n",
    "        sliced.sort_values('hours_from_start', inplace=True)\n",
    "        # Impute log volatility values\n",
    "        sliced['log_vol'].fillna(method='ffill', inplace=True)\n",
    "        sliced.dropna()\n",
    "        output_df_list.append(sliced)\n",
    "\n",
    "    df = pd.concat(output_df_list, axis=0)\n",
    "\n",
    "    output_file = 'formatted_ohlc.csv'\n",
    "    print('Completed formatting, saving to {}'.format(output_file))\n",
    "    df.to_csv(output_file)\n",
    "\n",
    "    print('Done.')\n",
    "\n",
    "download_volatility()"
   ]
  }
 ],
 "metadata": {
  "kernelspec": {
   "display_name": "Python 3",
   "language": "python",
   "name": "python3"
  },
  "language_info": {
   "codemirror_mode": {
    "name": "ipython",
    "version": 3
   },
   "file_extension": ".py",
   "mimetype": "text/x-python",
   "name": "python",
   "nbconvert_exporter": "python",
   "pygments_lexer": "ipython3",
   "version": "3.8.10"
  },
  "orig_nbformat": 4
 },
 "nbformat": 4,
 "nbformat_minor": 2
}
